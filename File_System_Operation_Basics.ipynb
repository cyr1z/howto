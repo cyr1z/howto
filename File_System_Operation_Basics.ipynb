{
  "nbformat": 4,
  "nbformat_minor": 0,
  "metadata": {
    "colab": {
      "name": "File System Operation Basics.ipynb",
      "provenance": [],
      "collapsed_sections": []
    },
    "kernelspec": {
      "name": "python3",
      "display_name": "Python 3"
    }
  },
  "cells": [
    {
      "cell_type": "markdown",
      "metadata": {
        "id": "ajRGEAwVLduw"
      },
      "source": [
        "1. Show Current Directory"
      ]
    },
    {
      "cell_type": "code",
      "metadata": {
        "id": "D06QDeTkLNzj"
      },
      "source": [
        "import os"
      ],
      "execution_count": null,
      "outputs": []
    },
    {
      "cell_type": "code",
      "metadata": {
        "colab": {
          "base_uri": "https://localhost:8080/"
        },
        "id": "MONd-mt5Lrit",
        "outputId": "e67577b8-0c14-4661-f1cf-500a2eaf1bf4"
      },
      "source": [
        "print(f'Current Working Directory is: {os.getcwd()}')"
      ],
      "execution_count": null,
      "outputs": [
        {
          "output_type": "stream",
          "text": [
            "Current Working Directory is: /content\n"
          ],
          "name": "stdout"
        }
      ]
    },
    {
      "cell_type": "markdown",
      "metadata": {
        "id": "Tgabv-qdLuJt"
      },
      "source": [
        "2. Check Existence of a Directory or File"
      ]
    },
    {
      "cell_type": "code",
      "metadata": {
        "colab": {
          "base_uri": "https://localhost:8080/"
        },
        "id": "kFCua2DSLsQU",
        "outputId": "b0f90188-3add-4c4d-c950-316fb8e7f123"
      },
      "source": [
        "os.path.exists('sample_data')"
      ],
      "execution_count": null,
      "outputs": [
        {
          "output_type": "execute_result",
          "data": {
            "text/plain": [
              "True"
            ]
          },
          "metadata": {
            "tags": []
          },
          "execution_count": 3
        }
      ]
    },
    {
      "cell_type": "code",
      "metadata": {
        "colab": {
          "base_uri": "https://localhost:8080/"
        },
        "id": "2AEV-cV4LsVA",
        "outputId": "d8f5f17c-16e7-4401-b23c-264adffa3ac3"
      },
      "source": [
        "os.path.exists('sample_data/README.md')"
      ],
      "execution_count": null,
      "outputs": [
        {
          "output_type": "execute_result",
          "data": {
            "text/plain": [
              "True"
            ]
          },
          "metadata": {
            "tags": []
          },
          "execution_count": 4
        }
      ]
    },
    {
      "cell_type": "code",
      "metadata": {
        "colab": {
          "base_uri": "https://localhost:8080/"
        },
        "id": "SjfIu-ReLsZB",
        "outputId": "a5bfcc82-05f1-4953-d5f3-73db3abdc590"
      },
      "source": [
        "os.path.exists('foobar')"
      ],
      "execution_count": null,
      "outputs": [
        {
          "output_type": "execute_result",
          "data": {
            "text/plain": [
              "False"
            ]
          },
          "metadata": {
            "tags": []
          },
          "execution_count": 5
        }
      ]
    },
    {
      "cell_type": "markdown",
      "metadata": {
        "id": "tTUL0OOiN9_P"
      },
      "source": [
        "3. Join Directory/File Name Components"
      ]
    },
    {
      "cell_type": "code",
      "metadata": {
        "colab": {
          "base_uri": "https://localhost:8080/"
        },
        "id": "YGFyzqg0N9Rv",
        "outputId": "2efb95bb-84a0-43d3-8566-10f738e33d87"
      },
      "source": [
        "os.path.exists('sample_data\\README.md')"
      ],
      "execution_count": null,
      "outputs": [
        {
          "output_type": "execute_result",
          "data": {
            "text/plain": [
              "False"
            ]
          },
          "metadata": {
            "tags": []
          },
          "execution_count": 6
        }
      ]
    },
    {
      "cell_type": "code",
      "metadata": {
        "colab": {
          "base_uri": "https://localhost:8080/"
        },
        "id": "i4w4n9N_OgbQ",
        "outputId": "54994c49-e2f7-4b2e-fb67-93063d062153"
      },
      "source": [
        "os.path.exists(os.path.join('sample_data', 'README.md'))"
      ],
      "execution_count": null,
      "outputs": [
        {
          "output_type": "execute_result",
          "data": {
            "text/plain": [
              "True"
            ]
          },
          "metadata": {
            "tags": []
          },
          "execution_count": 7
        }
      ]
    },
    {
      "cell_type": "code",
      "metadata": {
        "colab": {
          "base_uri": "https://localhost:8080/",
          "height": 35
        },
        "id": "d0t7zuoeOqZQ",
        "outputId": "c864cd26-d0ad-4690-d3df-c0515b71b7d4"
      },
      "source": [
        "os.path.join('sample_data', 'README.md')"
      ],
      "execution_count": null,
      "outputs": [
        {
          "output_type": "execute_result",
          "data": {
            "application/vnd.google.colaboratory.intrinsic+json": {
              "type": "string"
            },
            "text/plain": [
              "'sample_data/README.md'"
            ]
          },
          "metadata": {
            "tags": []
          },
          "execution_count": 8
        }
      ]
    },
    {
      "cell_type": "markdown",
      "metadata": {
        "id": "W4i5jQx0Lxzi"
      },
      "source": [
        " 4. Create a Directory"
      ]
    },
    {
      "cell_type": "code",
      "metadata": {
        "colab": {
          "base_uri": "https://localhost:8080/",
          "height": 214
        },
        "id": "7UvbIWSFLsc-",
        "outputId": "72b5b650-377a-400a-9313-8641487cda0b"
      },
      "source": [
        "print(f\"test_dir existing: {os.path.exists('test_dir')}\")\r\n",
        "os.mkdir('test_dir')\r\n",
        "print(f\"test_dir existing: {os.path.exists('test_dir')}\")"
      ],
      "execution_count": null,
      "outputs": [
        {
          "output_type": "stream",
          "text": [
            "test_dir existing: True\n"
          ],
          "name": "stdout"
        },
        {
          "output_type": "error",
          "ename": "FileExistsError",
          "evalue": "ignored",
          "traceback": [
            "\u001b[0;31m---------------------------------------------------------------------------\u001b[0m",
            "\u001b[0;31mFileExistsError\u001b[0m                           Traceback (most recent call last)",
            "\u001b[0;32m<ipython-input-9-cd54f367061e>\u001b[0m in \u001b[0;36m<module>\u001b[0;34m()\u001b[0m\n\u001b[1;32m      1\u001b[0m \u001b[0mprint\u001b[0m\u001b[0;34m(\u001b[0m\u001b[0;34mf\"test_dir existing: {os.path.exists('test_dir')}\"\u001b[0m\u001b[0;34m)\u001b[0m\u001b[0;34m\u001b[0m\u001b[0;34m\u001b[0m\u001b[0m\n\u001b[0;32m----> 2\u001b[0;31m \u001b[0mos\u001b[0m\u001b[0;34m.\u001b[0m\u001b[0mmkdir\u001b[0m\u001b[0;34m(\u001b[0m\u001b[0;34m'test_dir'\u001b[0m\u001b[0;34m)\u001b[0m\u001b[0;34m\u001b[0m\u001b[0;34m\u001b[0m\u001b[0m\n\u001b[0m\u001b[1;32m      3\u001b[0m \u001b[0mprint\u001b[0m\u001b[0;34m(\u001b[0m\u001b[0;34mf\"test_dir existing: {os.path.exists('test_dir')}\"\u001b[0m\u001b[0;34m)\u001b[0m\u001b[0;34m\u001b[0m\u001b[0;34m\u001b[0m\u001b[0m\n",
            "\u001b[0;31mFileExistsError\u001b[0m: [Errno 17] File exists: 'test_dir'"
          ]
        }
      ]
    },
    {
      "cell_type": "code",
      "metadata": {
        "id": "FVt4FOoZLsgg"
      },
      "source": [
        "os.mkdir('test_dir')"
      ],
      "execution_count": null,
      "outputs": []
    },
    {
      "cell_type": "code",
      "metadata": {
        "id": "4tens-LfPc19"
      },
      "source": [
        "if not os.path.exists('test_dir'):\r\n",
        "    os.mkdir('test_dir')"
      ],
      "execution_count": null,
      "outputs": []
    },
    {
      "cell_type": "code",
      "metadata": {
        "id": "WwaGTLC-PnAo"
      },
      "source": [
        "os.makedirs(os.path.join('test_dir', 'level_1', 'level_2', 'level_3'))"
      ],
      "execution_count": null,
      "outputs": []
    },
    {
      "cell_type": "markdown",
      "metadata": {
        "id": "hOGeVaNrLyn4"
      },
      "source": [
        "5. Show Directory Content"
      ]
    },
    {
      "cell_type": "code",
      "metadata": {
        "colab": {
          "base_uri": "https://localhost:8080/"
        },
        "id": "YcVxtzn3Rzet",
        "outputId": "71ec525d-1ed5-4a2b-a4e5-f56a71776db8"
      },
      "source": [
        "os.listdir('sample_data')"
      ],
      "execution_count": null,
      "outputs": [
        {
          "output_type": "execute_result",
          "data": {
            "text/plain": [
              "['README.md',\n",
              " 'anscombe.json',\n",
              " 'california_housing_train.csv',\n",
              " 'california_housing_test.csv',\n",
              " 'mnist_train_small.csv',\n",
              " 'mnist_test.csv']"
            ]
          },
          "metadata": {
            "tags": []
          },
          "execution_count": 13
        }
      ]
    },
    {
      "cell_type": "code",
      "metadata": {
        "id": "-lDyzUT2Lslp"
      },
      "source": [
        "from glob import glob"
      ],
      "execution_count": null,
      "outputs": []
    },
    {
      "cell_type": "code",
      "metadata": {
        "colab": {
          "base_uri": "https://localhost:8080/"
        },
        "id": "-ITfwH78L1zZ",
        "outputId": "c6217a27-0de2-4a4b-ce9e-b511c9624a61"
      },
      "source": [
        "list(glob(os.path.join('sample_data', '*.csv')))"
      ],
      "execution_count": null,
      "outputs": [
        {
          "output_type": "execute_result",
          "data": {
            "text/plain": [
              "['sample_data/california_housing_train.csv',\n",
              " 'sample_data/california_housing_test.csv',\n",
              " 'sample_data/mnist_train_small.csv',\n",
              " 'sample_data/mnist_test.csv']"
            ]
          },
          "metadata": {
            "tags": []
          },
          "execution_count": 15
        }
      ]
    },
    {
      "cell_type": "markdown",
      "metadata": {
        "id": "n74Xx3NiL23A"
      },
      "source": [
        "6. Move Files"
      ]
    },
    {
      "cell_type": "code",
      "metadata": {
        "id": "5y8P5oCiL15f"
      },
      "source": [
        "import shutil"
      ],
      "execution_count": null,
      "outputs": []
    },
    {
      "cell_type": "code",
      "metadata": {
        "id": "Sjrs5Pb1L19O"
      },
      "source": [
        "for file in list(glob(os.path.join('sample_data', '*.csv'))):\r\n",
        "    shutil.move(file, 'test_dir')"
      ],
      "execution_count": null,
      "outputs": []
    },
    {
      "cell_type": "code",
      "metadata": {
        "id": "F0FLp__jL2Aw"
      },
      "source": [
        "for file in list(glob(os.path.join('test_dir', '*.csv'))):\r\n",
        "    os.rename(\r\n",
        "        file, \r\n",
        "        os.path.join(\r\n",
        "            'sample_data', \r\n",
        "            os.path.basename(file)\r\n",
        "    ))"
      ],
      "execution_count": null,
      "outputs": []
    },
    {
      "cell_type": "code",
      "metadata": {
        "id": "z3kf81YiTMEG"
      },
      "source": [
        "for file in list(glob(os.path.join('sample_data', '*.csv'))):\r\n",
        "    os.replace(file, os.path.join('test_dir', os.path.basename(file)))"
      ],
      "execution_count": null,
      "outputs": []
    },
    {
      "cell_type": "markdown",
      "metadata": {
        "id": "rxX5R7-oL5tM"
      },
      "source": [
        "7. Copy Files"
      ]
    },
    {
      "cell_type": "code",
      "metadata": {
        "colab": {
          "base_uri": "https://localhost:8080/",
          "height": 35
        },
        "id": "1-IY4FniL2Dy",
        "outputId": "3debc3ee-5ac3-4e24-a905-bca197087b6c"
      },
      "source": [
        "shutil.copy(\r\n",
        "    os.path.join('sample_data', 'README.md'),\r\n",
        "    os.path.join('test_dir')\r\n",
        ")"
      ],
      "execution_count": null,
      "outputs": [
        {
          "output_type": "execute_result",
          "data": {
            "application/vnd.google.colaboratory.intrinsic+json": {
              "type": "string"
            },
            "text/plain": [
              "'test_dir/README.md'"
            ]
          },
          "metadata": {
            "tags": []
          },
          "execution_count": 25
        }
      ]
    },
    {
      "cell_type": "code",
      "metadata": {
        "colab": {
          "base_uri": "https://localhost:8080/",
          "height": 35
        },
        "id": "CcSbCbxtL2G4",
        "outputId": "9898d22b-f25d-4535-af42-f62d9ab59bc7"
      },
      "source": [
        "shutil.copy(\r\n",
        "    os.path.join('sample_data', 'README.md'),\r\n",
        "    os.path.join('test_dir', 'README(1).md')\r\n",
        ")"
      ],
      "execution_count": null,
      "outputs": [
        {
          "output_type": "execute_result",
          "data": {
            "application/vnd.google.colaboratory.intrinsic+json": {
              "type": "string"
            },
            "text/plain": [
              "'test_dir/README(1).md'"
            ]
          },
          "metadata": {
            "tags": []
          },
          "execution_count": 26
        }
      ]
    },
    {
      "cell_type": "markdown",
      "metadata": {
        "id": "5nfXU-erL7W1"
      },
      "source": [
        "8. Delete Directories or Files"
      ]
    },
    {
      "cell_type": "code",
      "metadata": {
        "id": "ZnXMrZ8aL2KJ"
      },
      "source": [
        "os.remove(os.path.join('test_dir', 'README(1).md'))"
      ],
      "execution_count": null,
      "outputs": []
    },
    {
      "cell_type": "code",
      "metadata": {
        "colab": {
          "base_uri": "https://localhost:8080/",
          "height": 163
        },
        "id": "eN7aW02LL2Ne",
        "outputId": "72b61275-0bb7-4b0a-f894-7006da4feb81"
      },
      "source": [
        "os.rmdir(os.path.join('test_dir', 'level_1'))"
      ],
      "execution_count": null,
      "outputs": [
        {
          "output_type": "error",
          "ename": "OSError",
          "evalue": "ignored",
          "traceback": [
            "\u001b[0;31m---------------------------------------------------------------------------\u001b[0m",
            "\u001b[0;31mOSError\u001b[0m                                   Traceback (most recent call last)",
            "\u001b[0;32m<ipython-input-28-352a126b9aab>\u001b[0m in \u001b[0;36m<module>\u001b[0;34m()\u001b[0m\n\u001b[0;32m----> 1\u001b[0;31m \u001b[0mos\u001b[0m\u001b[0;34m.\u001b[0m\u001b[0mrmdir\u001b[0m\u001b[0;34m(\u001b[0m\u001b[0mos\u001b[0m\u001b[0;34m.\u001b[0m\u001b[0mpath\u001b[0m\u001b[0;34m.\u001b[0m\u001b[0mjoin\u001b[0m\u001b[0;34m(\u001b[0m\u001b[0;34m'test_dir'\u001b[0m\u001b[0;34m,\u001b[0m \u001b[0;34m'level_1'\u001b[0m\u001b[0;34m)\u001b[0m\u001b[0;34m)\u001b[0m\u001b[0;34m\u001b[0m\u001b[0;34m\u001b[0m\u001b[0m\n\u001b[0m",
            "\u001b[0;31mOSError\u001b[0m: [Errno 39] Directory not empty: 'test_dir/level_1'"
          ]
        }
      ]
    },
    {
      "cell_type": "code",
      "metadata": {
        "id": "QQs2oec8L2R6"
      },
      "source": [
        "shutil.rmtree(os.path.join('test_dir', 'level_1'))"
      ],
      "execution_count": null,
      "outputs": []
    },
    {
      "cell_type": "code",
      "metadata": {
        "id": "od5orRpsVWnM"
      },
      "source": [
        ""
      ],
      "execution_count": null,
      "outputs": []
    }
  ]
}