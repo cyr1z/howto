{
 "cells": [
  {
   "cell_type": "code",
   "execution_count": null,
   "metadata": {},
   "outputs": [],
   "source": []
  },
  {
   "cell_type": "markdown",
   "metadata": {},
   "source": [
    "# attr examples"
   ]
  },
  {
   "cell_type": "markdown",
   "metadata": {},
   "source": [
    "    '''sh\n",
    "    pip install attrs\n",
    "    '''\n",
    "`@attrs` — это аннотация, которая сообщает, что этот класс будет объявлен с помощью библиотеки `attrs`. Затем каждый атрибут нужно определить как `attrib()`, потому что нет необходимости использовать метод `__init__()`. После этого мы можем просто создать экземпляр класса точно так же, как если бы существовал метод `__init__`.\n",
    "\n",
    "[arrts examles](https://github.com/python-attrs/attrs/blob/master/docs/examples.rst)"
   ]
  },
  {
   "cell_type": "code",
   "execution_count": 37,
   "metadata": {},
   "outputs": [],
   "source": [
    "# ! pip install unidecode\n"
   ]
  },
  {
   "cell_type": "code",
   "execution_count": 55,
   "metadata": {},
   "outputs": [],
   "source": [
    "from attr import attrs, attrib, asdict, astuple, fields, validators\n",
    "from numbers import Number\n",
    "\n",
    "from unidecode import unidecode\n"
   ]
  },
  {
   "cell_type": "code",
   "execution_count": 56,
   "metadata": {},
   "outputs": [],
   "source": [
    "STUDENTS_ID_LEN = 6\n",
    "SEX_VARIANTS = ['man', 'woman']\n",
    "MIN_AGE = 10\n",
    "MAX_AGE = 64"
   ]
  },
  {
   "cell_type": "code",
   "execution_count": 105,
   "metadata": {},
   "outputs": [],
   "source": [
    "@attrs\n",
    "class Person(object):\n",
    "    name: str = attrib()\n",
    "    age: int = attrib(validator=validators.instance_of(int))\n",
    "    sex: str = attrib(default='man')\n",
    "    skills: list = attrib(factory=list)\n",
    "    projects: list = attrib(factory=list)\n",
    "#     projects = attrib(init=False)\n",
    "   \n",
    "    \n",
    "    @age.validator\n",
    "    def check_age(self, attribute, value):\n",
    "        if  MIN_AGE > value > MAX_AGE:\n",
    "            raise ValueError(f'wrong age {value}')\n",
    "    \n",
    "    @sex.validator\n",
    "    def check_sex(self, attribute, value):\n",
    "        if value not in SEX_VARIANTS:\n",
    "            raise ValueError(f'wrong sex {value}')\n",
    "    \n",
    "    \n",
    "            \n",
    "    def __str__(self):\n",
    "        result = f'{self.name} / {self.sex} {self.age}y.o. '\n",
    "        if self.skills:\n",
    "            result +=  ', '.join(self.skills)\n",
    "        if self.projects:\n",
    "            result += ', '.join(self.projects)\n",
    "        return result"
   ]
  },
  {
   "cell_type": "code",
   "execution_count": 136,
   "metadata": {},
   "outputs": [],
   "source": [
    "# @attrs(frozen=True)\n",
    "@attrs()\n",
    "class User(object):\n",
    "    user_id: str = attrib(default='a')\n",
    "    password: str = attrib(repr=False, default='')\n",
    "    # password = attrib(repr=lambda value: '***')\n",
    "    \n",
    "    def get_user_id(self):\n",
    "        return self.user_id"
   ]
  },
  {
   "cell_type": "code",
   "execution_count": 137,
   "metadata": {},
   "outputs": [],
   "source": [
    "@attrs\n",
    "class Student(Person, User):\n",
    "    student_id: str = attrib(default='000000')\n",
    "    group_id: str = attrib(default='a0')\n",
    "    course: int = attrib()\n",
    "    \n",
    "    @course.default\n",
    "    def _course(self):\n",
    "        result = self.age - 17\n",
    "        if result <= 5:\n",
    "            return result\n",
    "        return 1\n",
    "            \n",
    "    \n",
    "    @student_id.validator\n",
    "    def check_student_id(self, attribute, value):\n",
    "        if len(str(value)) != STUDENTS_ID_LEN:\n",
    "            raise ValueError(f'student_id must be 6 characters! got {len(str(value))}')\n",
    "        if not value.isdigit():\n",
    "            raise ValueError('student_id must be numbers')\n",
    "    \n",
    "    def get_student_id(self):\n",
    "        return self.student_id\n",
    "    \n",
    "    def __str__(self):\n",
    "        return super().__str__() + f'/ id: {self.student_id} / group: {self.group_id} / uid: {self.user_id}'\n"
   ]
  },
  {
   "cell_type": "code",
   "execution_count": 138,
   "metadata": {},
   "outputs": [
    {
     "name": "stdout",
     "output_type": "stream",
     "text": [
      "Susy / woman 18y.o. \n"
     ]
    }
   ],
   "source": [
    "susy = Person(name=\"Susy\", age=18, sex=\"woman\")\n",
    "\n",
    "print(susy)"
   ]
  },
  {
   "cell_type": "code",
   "execution_count": 139,
   "metadata": {},
   "outputs": [],
   "source": [
    "sus = Person(name=\"Sus\", age=16)"
   ]
  },
  {
   "cell_type": "code",
   "execution_count": 140,
   "metadata": {},
   "outputs": [
    {
     "name": "stdout",
     "output_type": "stream",
     "text": [
      "Sus / man 16y.o. python, django\n"
     ]
    }
   ],
   "source": [
    "sus.skills =  ['python', 'django']\n",
    "print(sus)"
   ]
  },
  {
   "cell_type": "code",
   "execution_count": 141,
   "metadata": {},
   "outputs": [],
   "source": [
    "student = Student(name='Cyr', age=37, sex='man', user_id='cyr', student_id='123456', group_id='b12')\n",
    "        "
   ]
  },
  {
   "cell_type": "code",
   "execution_count": 142,
   "metadata": {},
   "outputs": [
    {
     "name": "stdout",
     "output_type": "stream",
     "text": [
      "{'name': 'Cyr', 'age': 37, 'sex': 'man', 'skills': [], 'projects': [], 'user_id': 'cyr', 'password': '', 'student_id': '123456', 'group_id': 'b12', 'course': 1}\n",
      "('Cyr', 37, 'man', [], [], 'cyr', '', '123456', 'b12', 1)\n"
     ]
    },
    {
     "data": {
      "text/plain": [
       "Student(name='Cyr', age=37, sex='man', skills=[], projects=[], user_id='cyr', student_id='123456', group_id='b12', course=1)"
      ]
     },
     "execution_count": 142,
     "metadata": {},
     "output_type": "execute_result"
    }
   ],
   "source": [
    "print(asdict(student))\n",
    "print(astuple(student))\n",
    "student #password not in repr"
   ]
  },
  {
   "cell_type": "code",
   "execution_count": 143,
   "metadata": {},
   "outputs": [
    {
     "name": "stdout",
     "output_type": "stream",
     "text": [
      "Cyr / man 37y.o. / id: 123456 / group: b12 / uid: cyr\n"
     ]
    }
   ],
   "source": [
    "print(student)"
   ]
  },
  {
   "cell_type": "code",
   "execution_count": 144,
   "metadata": {},
   "outputs": [],
   "source": [
    "student_two = Student(**asdict(susy), user_id='susy', student_id='123496', group_id='b12')"
   ]
  },
  {
   "cell_type": "code",
   "execution_count": 145,
   "metadata": {},
   "outputs": [
    {
     "name": "stdout",
     "output_type": "stream",
     "text": [
      "Susy / woman 18y.o. / id: 123496 / group: b12 / uid: susy\n"
     ]
    }
   ],
   "source": [
    "print(student_two)"
   ]
  },
  {
   "cell_type": "code",
   "execution_count": 146,
   "metadata": {},
   "outputs": [
    {
     "name": "stdout",
     "output_type": "stream",
     "text": [
      "name <class 'str'>\n",
      "age <class 'int'>\n",
      "sex <class 'str'>\n",
      "skills <class 'list'>\n",
      "projects <class 'list'>\n",
      "user_id <class 'str'>\n",
      "password <class 'str'>\n",
      "student_id <class 'str'>\n",
      "group_id <class 'str'>\n",
      "course <class 'int'>\n"
     ]
    }
   ],
   "source": [
    "for a in fields(Student):\n",
    "    print(a.name, a.type)"
   ]
  }
 ],
 "metadata": {
  "kernelspec": {
   "display_name": "Python 3",
   "language": "python",
   "name": "python3"
  },
  "language_info": {
   "codemirror_mode": {
    "name": "ipython",
    "version": 3
   },
   "file_extension": ".py",
   "mimetype": "text/x-python",
   "name": "python",
   "nbconvert_exporter": "python",
   "pygments_lexer": "ipython3",
   "version": "3.8.5"
  }
 },
 "nbformat": 4,
 "nbformat_minor": 4
}
